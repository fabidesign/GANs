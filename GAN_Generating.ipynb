{
  "nbformat": 4,
  "nbformat_minor": 0,
  "metadata": {
    "colab": {
      "name": "GAN-Generating.ipynb",
      "provenance": [],
      "include_colab_link": true
    },
    "kernelspec": {
      "name": "python3",
      "display_name": "Python 3"
    },
    "accelerator": "GPU"
  },
  "cells": [
    {
      "cell_type": "markdown",
      "metadata": {
        "id": "view-in-github",
        "colab_type": "text"
      },
      "source": [
        "<a href=\"https://colab.research.google.com/github/fabidesign/GANs/blob/master/GAN_Generating.ipynb\" target=\"_parent\"><img src=\"https://colab.research.google.com/assets/colab-badge.svg\" alt=\"Open In Colab\"/></a>"
      ]
    },
    {
      "cell_type": "markdown",
      "metadata": {
        "id": "rEkNnYiwLzZ3",
        "colab_type": "text"
      },
      "source": [
        "Heyoo.\n",
        "\n",
        "This notebook is made to generate images using generative adverserial networks with stylegan.\n",
        "\n",
        "Click the connect button in the top right to start. Make sure your runtime type is set to GPU!\n",
        "\n",
        "To Use this notebook you basically just have to run every line after the other.\n",
        "\n",
        "I always comment the line below.\n",
        "\n",
        "On the left you can click on the folder icon to see the file structure and download certain files. Very handy!"
      ]
    },
    {
      "cell_type": "markdown",
      "metadata": {
        "id": "_XRYYUcLL6rE",
        "colab_type": "text"
      },
      "source": [
        "Run this line to connect to your drive to save your generated images (You will need to click on the link and copy the key in the input field) : "
      ]
    },
    {
      "cell_type": "code",
      "metadata": {
        "colab_type": "code",
        "id": "Xhh5cHIscdVi",
        "colab": {}
      },
      "source": [
        "from google.colab import drive\n",
        "drive.mount('/content/drive', force_remount=True)"
      ],
      "execution_count": 0,
      "outputs": []
    },
    {
      "cell_type": "markdown",
      "metadata": {
        "id": "_yxzn26mMLkp",
        "colab_type": "text"
      },
      "source": [
        "Install stylegan :"
      ]
    },
    {
      "cell_type": "code",
      "metadata": {
        "id": "FXdb0EKwDGTY",
        "colab_type": "code",
        "colab": {}
      },
      "source": [
        "!git clone https://github.com/NVlabs/stylegan.git"
      ],
      "execution_count": 0,
      "outputs": []
    },
    {
      "cell_type": "markdown",
      "metadata": {
        "id": "vmfVyEnmMMRD",
        "colab_type": "text"
      },
      "source": [
        "Move to stylegan folder :"
      ]
    },
    {
      "cell_type": "code",
      "metadata": {
        "id": "Uh8mHKWKMkqF",
        "colab_type": "code",
        "colab": {}
      },
      "source": [
        "cd stylegan/"
      ],
      "execution_count": 0,
      "outputs": []
    },
    {
      "cell_type": "markdown",
      "metadata": {
        "id": "ihFgqNTaMRJS",
        "colab_type": "text"
      },
      "source": [
        "List the content in that folder, just to check if working :"
      ]
    },
    {
      "cell_type": "code",
      "metadata": {
        "id": "d1Hw6PagDGgF",
        "colab_type": "code",
        "colab": {}
      },
      "source": [
        "!ls /content/stylegan/"
      ],
      "execution_count": 0,
      "outputs": []
    },
    {
      "cell_type": "markdown",
      "metadata": {
        "id": "XAFCiClKMSEB",
        "colab_type": "text"
      },
      "source": [
        "Another test to see if everything is running correctly :"
      ]
    },
    {
      "cell_type": "code",
      "metadata": {
        "id": "SzKrfO6oDG0i",
        "colab_type": "code",
        "colab": {}
      },
      "source": [
        "import sys\n",
        "sys.path.insert(0, \"/content/stylegan\")\n",
        "\n",
        "import dnnlib"
      ],
      "execution_count": 0,
      "outputs": []
    },
    {
      "cell_type": "markdown",
      "metadata": {
        "id": "f0ibwiOCMajV",
        "colab_type": "text"
      },
      "source": [
        "This field will generate the image! Change the id part in the URL to use your own .pkl . Change the path in the fourth last line to say where your imaged should be saved and how it should be called. Then run the field :"
      ]
    },
    {
      "cell_type": "code",
      "metadata": {
        "id": "nR4KZiARA_wN",
        "colab_type": "code",
        "colab": {}
      },
      "source": [
        "# Copyright (c) 2019, NVIDIA CORPORATION. All rights reserved.\n",
        "#\n",
        "# This work is licensed under the Creative Commons Attribution-NonCommercial\n",
        "# 4.0 International License. To view a copy of this license, visit\n",
        "# http://creativecommons.org/licenses/by-nc/4.0/ or send a letter to\n",
        "# Creative Commons, PO Box 1866, Mountain View, CA 94042, USA.\n",
        "\n",
        "\"\"\"Minimal script for generating an image using pre-trained StyleGAN generator.\"\"\"\n",
        "\n",
        "import os\n",
        "import pickle\n",
        "import numpy as np\n",
        "import PIL.Image\n",
        "import dnnlib\n",
        "import dnnlib.tflib as tflib\n",
        "import config\n",
        "\n",
        "def main():\n",
        "    # Initialize TensorFlow.\n",
        "    tflib.init_tf()\n",
        "\n",
        "    # Load pre-trained network.\n",
        "    url = 'https://drive.google.com/uc?id=1MJ6iCfNtMIRicihwRorsM3b7mmtmK9c3' # karras2019stylegan-ffhq-1024x1024.pkl\n",
        "    with dnnlib.util.open_url(url, cache_dir=config.cache_dir) as f:\n",
        "        _G, _D, Gs = pickle.load(f)\n",
        "        # _G = Instantaneous snapshot of the generator. Mainly useful for resuming a previous training run.\n",
        "        # _D = Instantaneous snapshot of the discriminator. Mainly useful for resuming a previous training run.\n",
        "        # Gs = Long-term average of the generator. Yields higher-quality results than the instantaneous snapshot.\n",
        "\n",
        "    # Print network details.\n",
        "    Gs.print_layers()\n",
        "\n",
        "    # Pick latent vector.\n",
        "    rnd = np.random.RandomState()\n",
        "    \n",
        "\n",
        "    latents = rnd.randn(1, Gs.input_shape[1])\n",
        "\n",
        "    # Generate image.\n",
        "    fmt = dict(func=tflib.convert_images_to_uint8, nchw_to_nhwc=True)\n",
        "    images = Gs.run(latents, None, truncation_psi=0.7, randomize_noise=True, output_transform=fmt)\n",
        "\n",
        "    # Save image.\n",
        "    os.makedirs(config.result_dir, exist_ok=True)\n",
        "    png_filename = os.path.join(config.result_dir, f'/content/drive/My Drive/GAN/HelloWorld.png')\n",
        "    PIL.Image.fromarray(images[0], 'RGB').save(png_filename)\n",
        "\n",
        "if __name__ == \"__main__\":\n",
        "    main()\n"
      ],
      "execution_count": 0,
      "outputs": []
    }
  ]
}